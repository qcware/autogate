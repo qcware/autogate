{
 "cells": [
  {
   "cell_type": "code",
   "execution_count": 1,
   "metadata": {},
   "outputs": [],
   "source": [
    "import autogate\n",
    "import sympy"
   ]
  },
  {
   "cell_type": "code",
   "execution_count": 2,
   "metadata": {},
   "outputs": [
    {
     "name": "stdout",
     "output_type": "stream",
     "text": [
      "T  : |0|1|2 |3|4|\n",
      "\n",
      "q0 : -H-@-Ry-@-H-\n",
      "        |    |   \n",
      "q1 : -H-Z-Ry-Z-H-\n",
      "                 \n",
      "T  : |0|1|2 |3|4|\n",
      "\n"
     ]
    }
   ],
   "source": [
    "t = sympy.Symbol('t', real=True)\n",
    "    \n",
    "circuit = autogate.Circuit()\n",
    "circuit.add_gate(gate=autogate.GateLibrary.H(), time=0, qubits=(0,))\n",
    "circuit.add_gate(gate=autogate.GateLibrary.H(), time=0, qubits=(1,))\n",
    "circuit.add_gate(gate=autogate.GateLibrary.cZ(), time=1, qubits=(0, 1)) \n",
    "circuit.add_gate(gate=autogate.GateLibrary.Ry(+t/2), time=2, qubits=(0,))\n",
    "circuit.add_gate(gate=autogate.GateLibrary.Ry(-t/2), time=2, qubits=(1,))\n",
    "circuit.add_gate(gate=autogate.GateLibrary.cZ(), time=3, qubits=(0, 1)) \n",
    "circuit.add_gate(gate=autogate.GateLibrary.H(), time=4, qubits=(0,))\n",
    "circuit.add_gate(gate=autogate.GateLibrary.H(), time=4, qubits=(1,))\n",
    "\n",
    "print(circuit)"
   ]
  },
  {
   "cell_type": "code",
   "execution_count": 3,
   "metadata": {},
   "outputs": [
    {
     "name": "stdout",
     "output_type": "stream",
     "text": [
      "⎡1    0        0     0⎤\n",
      "⎢                     ⎥\n",
      "⎢0  cos(t)  -sin(t)  0⎥\n",
      "⎢                     ⎥\n",
      "⎢0  sin(t)  cos(t)   0⎥\n",
      "⎢                     ⎥\n",
      "⎣0    0        0     1⎦\n"
     ]
    }
   ],
   "source": [
    "print(sympy.pretty(circuit.operator))"
   ]
  },
  {
   "cell_type": "code",
   "execution_count": 4,
   "metadata": {},
   "outputs": [
    {
     "name": "stdout",
     "output_type": "stream",
     "text": [
      "T  : |0|1 |2|\n",
      "\n",
      "q0 : -X-@--X-\n",
      "      | |  | \n",
      "q1 : -O-G0-O-\n",
      "        |    \n",
      "q2 : -O-G1-O-\n",
      "      | |  | \n",
      "q3 : -X-@--X-\n",
      "             \n",
      "T  : |0|1 |2|\n",
      "\n"
     ]
    }
   ],
   "source": [
    "t = sympy.Symbol('t', real=True)\n",
    "\n",
    "circuit = autogate.Circuit()\n",
    "circuit.add_gate(gate=autogate.GateLibrary.oX(), time=0, qubits=(1, 0)) \n",
    "circuit.add_gate(gate=autogate.GateLibrary.oX(), time=0, qubits=(2, 3)) \n",
    "circuit.add_gate(gate=autogate.ControlledGate(controls=[True]*2, \n",
    "        gate=autogate.GateLibrary.G(t=t)), time=1, qubits=(0, 3, 1, 2)) \n",
    "circuit.add_gate(gate=autogate.GateLibrary.oX(), time=2, qubits=(1, 0)) \n",
    "circuit.add_gate(gate=autogate.GateLibrary.oX(), time=2, qubits=(2, 3)) \n",
    "\n",
    "print(circuit)"
   ]
  },
  {
   "cell_type": "code",
   "execution_count": 5,
   "metadata": {},
   "outputs": [
    {
     "name": "stdout",
     "output_type": "stream",
     "text": [
      "⎡1  0  0    0     0  0  0  0  0  0  0  0     0     0  0  0⎤\n",
      "⎢                                                         ⎥\n",
      "⎢0  1  0    0     0  0  0  0  0  0  0  0     0     0  0  0⎥\n",
      "⎢                                                         ⎥\n",
      "⎢0  0  1    0     0  0  0  0  0  0  0  0     0     0  0  0⎥\n",
      "⎢                                                         ⎥\n",
      "⎢0  0  0  cos(t)  0  0  0  0  0  0  0  0  -sin(t)  0  0  0⎥\n",
      "⎢                                                         ⎥\n",
      "⎢0  0  0    0     1  0  0  0  0  0  0  0     0     0  0  0⎥\n",
      "⎢                                                         ⎥\n",
      "⎢0  0  0    0     0  1  0  0  0  0  0  0     0     0  0  0⎥\n",
      "⎢                                                         ⎥\n",
      "⎢0  0  0    0     0  0  1  0  0  0  0  0     0     0  0  0⎥\n",
      "⎢                                                         ⎥\n",
      "⎢0  0  0    0     0  0  0  1  0  0  0  0     0     0  0  0⎥\n",
      "⎢                                                         ⎥\n",
      "⎢0  0  0    0     0  0  0  0  1  0  0  0     0     0  0  0⎥\n",
      "⎢                                                         ⎥\n",
      "⎢0  0  0    0     0  0  0  0  0  1  0  0     0     0  0  0⎥\n",
      "⎢                                                         ⎥\n",
      "⎢0  0  0    0     0  0  0  0  0  0  1  0     0     0  0  0⎥\n",
      "⎢                                                         ⎥\n",
      "⎢0  0  0    0     0  0  0  0  0  0  0  1     0     0  0  0⎥\n",
      "⎢                                                         ⎥\n",
      "⎢0  0  0  sin(t)  0  0  0  0  0  0  0  0  cos(t)   0  0  0⎥\n",
      "⎢                                                         ⎥\n",
      "⎢0  0  0    0     0  0  0  0  0  0  0  0     0     1  0  0⎥\n",
      "⎢                                                         ⎥\n",
      "⎢0  0  0    0     0  0  0  0  0  0  0  0     0     0  1  0⎥\n",
      "⎢                                                         ⎥\n",
      "⎣0  0  0    0     0  0  0  0  0  0  0  0     0     0  0  1⎦\n"
     ]
    }
   ],
   "source": [
    "print(sympy.pretty(circuit.operator))"
   ]
  }
 ],
 "metadata": {
  "kernelspec": {
   "display_name": "Python 3",
   "language": "python",
   "name": "python3"
  },
  "language_info": {
   "codemirror_mode": {
    "name": "ipython",
    "version": 3
   },
   "file_extension": ".py",
   "mimetype": "text/x-python",
   "name": "python",
   "nbconvert_exporter": "python",
   "pygments_lexer": "ipython3",
   "version": "3.7.1"
  }
 },
 "nbformat": 4,
 "nbformat_minor": 2
}
